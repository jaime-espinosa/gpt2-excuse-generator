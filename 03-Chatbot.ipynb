{
 "cells": [
  {
   "cell_type": "code",
   "execution_count": 1,
   "metadata": {},
   "outputs": [],
   "source": [
    "from textgen import TextGenerator"
   ]
  },
  {
   "cell_type": "code",
   "execution_count": 2,
   "metadata": {},
   "outputs": [
    {
     "data": {
      "text/plain": [
       "0.8"
      ]
     },
     "execution_count": 2,
     "metadata": {},
     "output_type": "execute_result"
    }
   ],
   "source": [
    "model_size = 'gpt2'\n",
    "#model_size = 'gpt2-xl'\n",
    "gen = TextGenerator(model_size)\n",
    "gen.temperature"
   ]
  },
  {
   "cell_type": "code",
   "execution_count": 5,
   "metadata": {},
   "outputs": [
    {
     "data": {
      "text/plain": [
       "' \"But I can\\'t, I already ate that one.\"\\n \"But Bugger that one again!\" I said. \"It\\'s really good, I\\'m glad I got to eat it.\"'"
      ]
     },
     "execution_count": 5,
     "metadata": {},
     "output_type": "execute_result"
    }
   ],
   "source": [
    "s='\"This biscuit is so good, it doesn\\'t even need butter or honey,\" he said. As he thoughtfully chewed the ' + \\\n",
    "' biscuit in apparent bliss he grabbed another biscuit and began to put butter and honey on it.'\n",
    "gen.generate_sentence(s, up_to_count=3)"
   ]
  },
  {
   "cell_type": "code",
   "execution_count": 3,
   "metadata": {},
   "outputs": [],
   "source": [
    "def tryit(s):\n",
    "    temps = [0.7, 0.8, 0.9]\n",
    "    for i in temps:\n",
    "        gen.temperature = i\n",
    "        print(i, gen.generate_sentence(s, up_to_count=4))"
   ]
  },
  {
   "cell_type": "code",
   "execution_count": 9,
   "metadata": {},
   "outputs": [
    {
     "name": "stdout",
     "output_type": "stream",
     "text": [
      "0.6  \"It's so good.\n",
      "0.7  \"This is so good I want to eat it all the time! I can't believe I just ate an entire pack so fast. I'm feeling better already,\" he said.\n",
      "\n",
      "\n",
      " \"This biscuit is so good, it doesn't even need butter or honey,\" he said.\n",
      "0.8  \"Wow, this one is very, very good and pretty salty. I could do that with this one.\" He gave me a curious look. \"I wonder how long I can keep doing this.\"\n",
      "0.9 \n",
      "\n",
      " This biccuit could (and often does) rival its predecessor.\n",
      " The white chocolate biscuit made with raw egg will keep for up to two weeks in the fridge and up to three weeks in the freezer.  If you use the same type of vegan marshmallows in this recipe they will be used up after 7 days.\n",
      "1.0  Quite shockingly these  two     items only went into his mouth when the nipples were touching only his penis.\n"
     ]
    }
   ],
   "source": [
    "tryit(s)"
   ]
  },
  {
   "cell_type": "code",
   "execution_count": 10,
   "metadata": {},
   "outputs": [
    {
     "name": "stdout",
     "output_type": "stream",
     "text": [
      "0.6 I just get the answer from my own experience.\" \n",
      "\n",
      "\n",
      " \n",
      "\n",
      "  \n",
      "\n",
      "\n",
      " I think the best way to learn how to estimate is to ask someone else how to do it.       I think the best way to learn how to estimate is to ask someone else how to do it.\n",
      "0.7 Well, I just have to think about it.                 It's a great deal of fun to have a good guess but I really have to think about it.  It's a question of \" what would be the best way to solve that problem.\n",
      "0.8 I always look at the data.\n",
      "0.9 The first time I encounter the trouble, I figure out the problem through trial and error\".\n",
      "1.0 I would look at the total time spent by the application on each page and to estimate that time I would accept 60% answer for the application code base and 40% answer for the host software.\"\n"
     ]
    }
   ],
   "source": [
    "tryit('Richard said, \"Larry, I don\\'t know how to estimate software. But you always immediately come up '+\\\n",
    "     'with an answer.  How do you do it? \\nLarry replied, \"')"
   ]
  },
  {
   "cell_type": "markdown",
   "metadata": {},
   "source": [
    "I fed this in as a prompt:\n",
    "> Richard said, \"Larry, I don\\'t know how to estimate software. But you always immediately come up '+\\\n",
    "     'with an answer.  How do you do it? \\nLarry replied, \"\n",
    "     \n",
    "And gpt2-xl replied:\n",
    "> I would look at the total time spent by the application on each page and to estimate that time I would accept 60% answer for the application code base and 40% answer for the host software.\n",
    "\n",
    "I'm not entirely sure, but I think it's suggesting you break down the task into functions, and contemplate time for each function on the front and back end."
   ]
  },
  {
   "cell_type": "markdown",
   "metadata": {},
   "source": [
    "# Chatbot\n",
    "Goals:\n",
    "* Bot that participates in a multi-user chat channel\n",
    "* Function: riff off of things being discussed\n",
    "* Have multiple modules that can suggest when it's time to say things\n",
    "* Make it easy to add more modules\n",
    "\n",
    "## Module: LOL Riffer\n",
    "This module will listen to people making comments. When it hears 'lol', 'lmao', 'lmfao', 'rofl', etc. Then it knows something funny was just said.  It will remember a list of recent funny things that have been said.  With a random probability it will factor in one of those previous things.  Then it will generate some text."
   ]
  },
  {
   "cell_type": "markdown",
   "metadata": {},
   "source": [
    "Topic memory - features:\n",
    "* store recent discussed topic in memory\n",
    "* ask it to retrieve a recent topic, and it will do so\n",
    "* can reinforce memories, which increases the likelihood they will be retained\n",
    "* can age memories, and less reinforced things will fall off"
   ]
  },
  {
   "cell_type": "code",
   "execution_count": 9,
   "metadata": {},
   "outputs": [],
   "source": [
    "gen = TextGenerator('gpt2-xl')"
   ]
  },
  {
   "cell_type": "code",
   "execution_count": null,
   "metadata": {},
   "outputs": [],
   "source": [
    "class TopicMemory:\n",
    "    def __init__(self):\n",
    "        pass\n",
    "    \n",
    "    def store_topic(self, text):\n",
    "        "
   ]
  },
  {
   "cell_type": "code",
   "execution_count": 12,
   "metadata": {},
   "outputs": [],
   "source": [
    "class LolRiffModule:\n",
    "    def __init__(self):\n",
    "        pass\n",
    "    \n",
    "    def hear(self, text):\n",
    "        \"\"\"\n",
    "        @returns response_text or None\n",
    "        \"\"\"\n",
    "        "
   ]
  },
  {
   "cell_type": "code",
   "execution_count": 4,
   "metadata": {},
   "outputs": [
    {
     "ename": "NameError",
     "evalue": "name 'tryit' is not defined",
     "output_type": "error",
     "traceback": [
      "\u001b[1;31m---------------------------------------------------------------------------\u001b[0m",
      "\u001b[1;31mNameError\u001b[0m                                 Traceback (most recent call last)",
      "\u001b[1;32m<ipython-input-4-efb5ac75f5c0>\u001b[0m in \u001b[0;36m<module>\u001b[1;34m\u001b[0m\n\u001b[0;32m      8\u001b[0m \u001b[1;33m(\u001b[0m\u001b[1;36m10\u001b[0m\u001b[1;33m:\u001b[0m\u001b[1;36m14\u001b[0m\u001b[1;33m:\u001b[0m\u001b[1;36m32\u001b[0m \u001b[0mPM\u001b[0m\u001b[1;33m)\u001b[0m \u001b[0mEthan\u001b[0m\u001b[1;33m:\u001b[0m \u001b[0msome\u001b[0m \u001b[0mgirl\u001b[0m \u001b[0mtold\u001b[0m \u001b[0mme\u001b[0m \u001b[0mone\u001b[0m \u001b[0mtime\u001b[0m \u001b[0mthat\u001b[0m \u001b[0mthey\u001b[0m \u001b[0mwere\u001b[0m \u001b[0mpackaged\u001b[0m \u001b[0mby\u001b[0m \u001b[0millegal\u001b[0m \u001b[0mimmigrants\u001b[0m \u001b[0mwho\u001b[0m \u001b[0mdon\u001b[0m\u001b[0;31m\\\u001b[0m\u001b[0;31m'\u001b[0m\u001b[0mt\u001b[0m \u001b[0mwash\u001b[0m \u001b[0mtheir\u001b[0m \u001b[0mhands\u001b[0m\u001b[1;33m\u001b[0m\u001b[1;33m\u001b[0m\u001b[0m\n\u001b[0;32m      9\u001b[0m \"\"\"\n\u001b[1;32m---> 10\u001b[1;33m \u001b[0mtryit\u001b[0m\u001b[1;33m(\u001b[0m\u001b[0mramen\u001b[0m\u001b[1;33m)\u001b[0m\u001b[1;33m\u001b[0m\u001b[1;33m\u001b[0m\u001b[0m\n\u001b[0m",
      "\u001b[1;31mNameError\u001b[0m: name 'tryit' is not defined"
     ]
    }
   ],
   "source": [
    "ramen=\"\"\"(10:13:36 PM) Susie: do u like Ramen NOodles?\n",
    "(10:13:46 PM) Ethan: sure\n",
    "\n",
    "(10:13:53 PM) Susie: Try eatin em Dry\n",
    "\n",
    "(10:13:55 PM) Susie: Their GOOD\n",
    "\n",
    "(10:14:32 PM) Ethan: some girl told me one time that they were packaged by illegal immigrants who don\\'t wash their hands\n",
    "\"\"\"\n",
    "tryit(ramen)"
   ]
  },
  {
   "cell_type": "code",
   "execution_count": 20,
   "metadata": {},
   "outputs": [
    {
     "name": "stdout",
     "output_type": "stream",
     "text": [
      "0.7  I have this idea that if you didn't hand wash your kids and get them clean, you'd end up with bad shoes.\n",
      "\n",
      "\n",
      "\n",
      "\n",
      "\n",
      "\n",
      "\n",
      "\n",
      "\n",
      "\n",
      "\n",
      "\n",
      "\n",
      "\n",
      "\n",
      "\n",
      "\n",
      "\n",
      "\n",
      "\n",
      "\n",
      "\n",
      "\n",
      "\n",
      "\n",
      "\n",
      "\n",
      "\n",
      "\n",
      "\n",
      "\n",
      "\n",
      "\n",
      "\n",
      "\n",
      "\n",
      "\n",
      "\n",
      "\n",
      "\n",
      "\n",
      "\n",
      "\n",
      "\n",
      "\n",
      "\n",
      "\n",
      "\n",
      "\n",
      "\n",
      "\n",
      "\n",
      "\n",
      "\n",
      "\n",
      "\n",
      "\n",
      "\n",
      "\n",
      "\n",
      "\n",
      "\n",
      "\n",
      "\n",
      "\n",
      "\n",
      "\n",
      "\n",
      "\n",
      "\n",
      "\n",
      "\n",
      "\n",
      "\n",
      " \n",
      "\n",
      "\n",
      "\n",
      "\n",
      "\n",
      "\n",
      "\n",
      "\n",
      "\n",
      "\n",
      "\n",
      "\n",
      "\n",
      "\n",
      "\n",
      "\n",
      "\n",
      "\n",
      "\n",
      " LOL.\n",
      "\n",
      "\n",
      " omg.\n",
      "\n",
      "\n",
      " I'll be our own wanderers.\n",
      "0.8  I don't know all Americans people who hate their hands.\n",
      "\n",
      " So, u Please kindle me  and try to take care.\n",
      "\n",
      "\n",
      "\n",
      "\n",
      "\n",
      "\n",
      " \n",
      "\n",
      "\n",
      "\n",
      "\n",
      "\n",
      "\n",
      "\n",
      "\n",
      "\n",
      "\n",
      "\n",
      "\n",
      "0.9  that took a lot of work. \n",
      "\n",
      "\n",
      "\n",
      "\n",
      "\n",
      "\n",
      "\n",
      "\n",
      "\n",
      " Sitting in a corner of the elevator, I grab a glass of water, and close my eyes. It's Just North America.\n",
      "\n",
      ".\n"
     ]
    }
   ],
   "source": [
    "s=\"\"\"Do u like Ramen NOodles?\n",
    "Sure.\n",
    "Try eatin em Dry.\n",
    "Their GOOD.\n",
    "some girl told me one time that they were packaged by illegal immigrants who don\\'t wash their hands.\n",
    "\"\"\"\n",
    "tryit(s)"
   ]
  },
  {
   "cell_type": "code",
   "execution_count": 34,
   "metadata": {},
   "outputs": [
    {
     "data": {
      "text/plain": [
       "\" they used to go to drive away would-be immigrants which is kinda the way they look at it. Maybe they forgot that they can't drive drivers. They have to drive to other cities, to get to school.\""
      ]
     },
     "execution_count": 34,
     "metadata": {},
     "output_type": "execute_result"
    }
   ],
   "source": [
    "s=\"\"\"Do u like Ramen NOodles? Sure. Try eatin em Dry. Their GOOD. some girl told me one time that they were packaged by illegal immigrants who don\\'t wash their hands.\n",
    "Let me tell you why this made me laugh so hard:\n",
    "\"\"\"\n",
    "gen.temperature=0.8\n",
    "gen.generate_sentence(s, up_to_count=3)"
   ]
  },
  {
   "cell_type": "markdown",
   "metadata": {},
   "source": [
    "I was looking at this list of [Funny Chat Logs](http://varietyreading.carlsguides.com/funnychatlogs/).  I need to clean those up into plain text to make things go smoother for the bot."
   ]
  },
  {
   "cell_type": "code",
   "execution_count": 19,
   "metadata": {},
   "outputs": [],
   "source": [
    "import re\n",
    "\n",
    "# Intended to match lines that start with a timestamp like: '(10:13:36 PM) Susie: do u like Ramen NOodles?'\n",
    "re_timestamp = re.compile('^\\(\\d.*\\)')\n",
    "re_starts_colon = re.compile('^\\w+:') # When it looks like a transcript: 'Bob: you rock' but not 'And then: something'\n",
    "\n",
    "\n",
    "def riff_clean(s):\n",
    "    \"\"\"Clean up lines that look like transcripts\"\"\"\n",
    "    lines = s.split('\\n')\n",
    "    output = ''\n",
    "    for line in lines:\n",
    "        line = line.strip()\n",
    "        if len(line) == 0:\n",
    "            continue\n",
    "        found_timestamp = re_timestamp.search(line)\n",
    "        if found_timestamp:\n",
    "            timestamp_end = found_timestamp.span()[1]\n",
    "            line = line[timestamp_end:]\n",
    "            # Now line is like 'Susie: do you like Ramen...'\n",
    "            # If there's a colon, zap up to the colon.\n",
    "            found_colon = re_starts_colon.search(line)\n",
    "            if found_colon:\n",
    "                colon_start = found_colon.span()[1]\n",
    "                print(colon_start)\n",
    "                line = line[colon_start + 1:]\n",
    "        output += line + '. '\n",
    "    return output\n"
   ]
  },
  {
   "cell_type": "code",
   "execution_count": 95,
   "metadata": {},
   "outputs": [
    {
     "data": {
      "text/plain": [
       "\" Susie: do u like Ramen NOodles?.  Ethan: sure.  Susie: Try eatin em Dry.  Susie: Their GOOD.  Ethan: some girl told me one time that they were packaged by illegal immigrants who don't wash their hands. \""
      ]
     },
     "execution_count": 95,
     "metadata": {},
     "output_type": "execute_result"
    }
   ],
   "source": [
    "riff_clean(ramen)"
   ]
  },
  {
   "cell_type": "code",
   "execution_count": 15,
   "metadata": {},
   "outputs": [],
   "source": [
    "def riff(s):\n",
    "    s = riff_clean(s)\n",
    "    s += 'I laughed so hard because'\n",
    "    #s += 'That made me laugh my ass off because'\n",
    "    out = gen.generate_sentence(s, up_to_count=2)\n",
    "    out = out.strip()\n",
    "    return out"
   ]
  },
  {
   "cell_type": "code",
   "execution_count": 48,
   "metadata": {},
   "outputs": [
    {
     "data": {
      "text/plain": [
       "'I walk past that many hotels, restaurants, stores you see hand wash stations and the woman just brushes her teeth in the tub or sink then brings it to you.'"
      ]
     },
     "execution_count": 48,
     "metadata": {},
     "output_type": "execute_result"
    }
   ],
   "source": [
    "riff(ramen)"
   ]
  },
  {
   "cell_type": "markdown",
   "metadata": {},
   "source": [
    "Let's try some more chat logs from Funny Chat Logs.\n"
   ]
  },
  {
   "cell_type": "code",
   "execution_count": 49,
   "metadata": {},
   "outputs": [
    {
     "data": {
      "text/plain": [
       "\"we were laughing on purpose, pretending it wasnt a cough syrup and was just plain ol' soda.\""
      ]
     },
     "execution_count": 49,
     "metadata": {},
     "output_type": "execute_result"
    }
   ],
   "source": [
    "s=\"\"\"\n",
    "(12:57:19 AM) Susie: Gotta take my NASTY cough syrup\n",
    "\n",
    "(1:07:20 AM) Susie: NOW I'M BACk\n",
    "\n",
    "(1:07:21 AM) Susie: Its Disgusting\n",
    "\n",
    "(1:07:24 AM) Ethan: yay\n",
    "\n",
    "(1:07:29 AM) Ethan: for you being back\n",
    "\n",
    "(1:07:32 AM) Ethan: not for it being disgusting\n",
    "\n",
    "(1:07:33 AM) Susie: Yeah\n",
    "\n",
    "(1:07:36 AM) Susie: LoL\n",
    "\n",
    "(1:07:43 AM) Ethan: boo for disgusting\n",
    "\n",
    "(1:08:25 AM) Ethan: boo *throws rotten tomatoes at the cough syrup*\n",
    "\n",
    "(1:08:32 AM) Susie: LoL\n",
    "\"\"\"\n",
    "riff(s)"
   ]
  },
  {
   "cell_type": "code",
   "execution_count": 61,
   "metadata": {},
   "outputs": [
    {
     "data": {
      "text/plain": [
       "\"[spoiler=]You've got tons of friends now, so you shouldn't go to the bathroom and leave all of your annoying cough syrup at your door. Not you.\""
      ]
     },
     "execution_count": 61,
     "metadata": {},
     "output_type": "execute_result"
    }
   ],
   "source": [
    "riff(s)"
   ]
  },
  {
   "cell_type": "code",
   "execution_count": 67,
   "metadata": {},
   "outputs": [
    {
     "data": {
      "text/plain": [
       "\"I'm normally all wrapped up in myself and my inner self and wouldn't take any crap from anyone, in any way. I guess I'm a little less p.\""
      ]
     },
     "execution_count": 67,
     "metadata": {},
     "output_type": "execute_result"
    }
   ],
   "source": [
    "s=\"\"\"\n",
    "(12:37:53 AM) Susie: MY GRAMS THINKS YOUR CUTE!\n",
    "(12:37:56 AM) Susie: haha!\n",
    "\n",
    "(12:38:59 AM) Ethan: maybe she sees my inner cuteness\n",
    "\n",
    "(12:39:05 AM) Ethan: cuz I don't think I have any on the outside, hehe\n",
    "\"\"\"\n",
    "riff(s)"
   ]
  },
  {
   "cell_type": "code",
   "execution_count": 70,
   "metadata": {},
   "outputs": [
    {
     "data": {
      "text/plain": [
       "'it was like the whole thing was a scene from \"Red Nose Day\" or something.'"
      ]
     },
     "execution_count": 70,
     "metadata": {},
     "output_type": "execute_result"
    }
   ],
   "source": [
    "s=\"\"\"\n",
    "(11:47:12 PM) Susie: You ain't buying me no IPOD\n",
    "(11:47:14 PM) Susie: SO I don't care\n",
    "\n",
    "(11:47:29 PM) Ethan: who said I wasn't?\n",
    "\n",
    "(11:47:36 PM) Susie: YAY\n",
    "\n",
    "(11:47:40 PM) Susie: I GET AN IPOD\n",
    "\n",
    "(11:47:44 PM) Susie: Beat an IPOD Randy\n",
    "\n",
    "(11:47:46 PM) Susie: Haha\n",
    "\n",
    "(11:47:52 PM) Susie: i get an IPOD\n",
    "\n",
    "(11:47:55 PM) Susie: i get an IPOD\n",
    "\n",
    "(11:47:59 PM) Susie: nana boo boo\n",
    "\n",
    "(11:48:00 PM) Ethan: this turns out great for you either way, doesn't it? :P\n",
    "\n",
    "(11:48:04 PM) Susie: yep\n",
    "\n",
    "(11:48:07 PM) Susie: i get an IPOD\n",
    "\n",
    "(11:48:11 PM) Susie: i get an IPOD\n",
    "\n",
    "(11:48:13 PM) Susie: and you all dont\n",
    "\n",
    "(11:48:15 PM) Ethan: he gets you something else, and then you challenge me to beat that\n",
    "\n",
    "(11:48:15 PM) Susie: nana boo boo\n",
    "\n",
    "(11:48:39 PM) Ethan: and before you know it, you have a cruise ship and the statue of liberty in your front yard\n",
    "\"\"\"\n",
    "riff(s)"
   ]
  },
  {
   "cell_type": "code",
   "execution_count": 93,
   "metadata": {},
   "outputs": [
    {
     "data": {
      "text/plain": [
       "\"(slight pause) that's what makes you so special..\""
      ]
     },
     "execution_count": 93,
     "metadata": {},
     "output_type": "execute_result"
    }
   ],
   "source": [
    "s=\"\"\"\n",
    "idk maybe it's karma.\n",
    "for you being a shitty person.\n",
    "maybe youre a fucking idiot.\n",
    "nah.\n",
    "the former.\n",
    "that's more likely.\n",
    "of course you did more damage i had to play like a pussy to avoid the two players you fed.\n",
    "you a duo with soraka?.\n",
    "Cause if you are, tell her she's cool.\n",
    "kill yourself.\n",
    "Oh, wouldn't want riot seeing this.\n",
    "that's one of their red flag words.\n",
    "lol.\n",
    "\"\"\"\n",
    "riff(s)"
   ]
  },
  {
   "cell_type": "code",
   "execution_count": 27,
   "metadata": {},
   "outputs": [
    {
     "data": {
      "text/plain": [
       "\"I thought the only thing better than this was the dip.\\n\\n I've noticed that the dip in the jar does not melt as easily as the dip in the jars.\""
      ]
     },
     "execution_count": 27,
     "metadata": {},
     "output_type": "execute_result"
    }
   ],
   "source": [
    "riff('Salmer made me some jalapeno poppers. Delicious!')"
   ]
  },
  {
   "cell_type": "code",
   "execution_count": 41,
   "metadata": {},
   "outputs": [
    {
     "data": {
      "text/plain": [
       "\"I'd never heard of it before.\""
      ]
     },
     "execution_count": 41,
     "metadata": {},
     "output_type": "execute_result"
    }
   ],
   "source": [
    "riff('Salmer made me some jalapeno poppers. Delicious!')"
   ]
  },
  {
   "cell_type": "code",
   "execution_count": 54,
   "metadata": {},
   "outputs": [
    {
     "data": {
      "text/plain": [
       "\" She is always there for me.     I was jealous of Fred and Sally's willingness to keep me warm during the day.\""
      ]
     },
     "execution_count": 54,
     "metadata": {},
     "output_type": "execute_result"
    }
   ],
   "source": [
    "gen.generate_sentence(\n",
    "'I just had a lot of fun in the hot tub with Fred and Sally.  We spent some time exercising together.', up_to_count=3)"
   ]
  },
  {
   "cell_type": "code",
   "execution_count": null,
   "metadata": {},
   "outputs": [],
   "source": []
  }
 ],
 "metadata": {
  "kernelspec": {
   "display_name": "Python 3",
   "language": "python",
   "name": "python3"
  },
  "language_info": {
   "codemirror_mode": {
    "name": "ipython",
    "version": 3
   },
   "file_extension": ".py",
   "mimetype": "text/x-python",
   "name": "python",
   "nbconvert_exporter": "python",
   "pygments_lexer": "ipython3",
   "version": "3.7.4"
  }
 },
 "nbformat": 4,
 "nbformat_minor": 2
}
